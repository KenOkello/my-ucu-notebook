{
 "cells": [
  {
   "cell_type": "code",
   "execution_count": 21,
   "id": "37c4603a-f018-4b3a-bd53-5effb0740bb4",
   "metadata": {},
   "outputs": [],
   "source": [
    "#1.1\n",
    "import numpy as np\n",
    "import math\n",
    "import matplotlib.pyplot as plt\n",
    "import statistics as stats\n",
    "\n",
    "Kampala = np.array([1200, 1250, 1300, 1350, 1420, 1500, 1580, 1650, 1720, 1800])\n",
    "Wakiso = np.array([950, 1000, 1070, 1150, 1220, 1300, 1390, 1480, 1570, 1670])\n",
    "Gulu = np.array([320, 330, 345, 360, 375, 390, 410, 430, 455, 480])\n"
   ]
  },
  {
   "cell_type": "code",
   "execution_count": 22,
   "id": "79267b15-6c7d-4b62-9eb6-a81e1762dec9",
   "metadata": {},
   "outputs": [
    {
     "name": "stdout",
     "output_type": "stream",
     "text": [
      "Kampala Statistics\n",
      "Mean =  1477\n",
      "Median =  1460.0\n",
      "Variance =  38341\n",
      "Standard Deviation =  195.8085799958725\n",
      "\n",
      "Wakiso Statistics\n",
      "Mean =  1280\n",
      "Median =  1260.0\n",
      "Variance =  54060\n",
      "Standard Deviation =  232.50806437627062\n",
      "\n",
      "Gulu Statistics\n",
      "Mean =  389.5\n",
      "Median =  382.5\n",
      "Variance =  2597.25\n",
      "Standard Deviation =  50.96322203314857\n"
     ]
    }
   ],
   "source": [
    "#1.2\n",
    "print (\"Kampala Statistics\")\n",
    "\n",
    "print (\"Mean = \", stats.mean(Kampala.tolist()))\n",
    "print (\"Median = \", stats.median(Kampala.tolist()))\n",
    "print (\"Variance = \", stats.pvariance(Kampala.tolist()))\n",
    "print (\"Standard Deviation = \", stats.pstdev(Kampala.tolist()))\n",
    "print()\n",
    "\n",
    "print (\"Wakiso Statistics\")\n",
    "\n",
    "print (\"Mean = \", stats.mean(Wakiso.tolist()))\n",
    "print (\"Median = \", stats.median(Wakiso.tolist()))\n",
    "print (\"Variance = \", stats.pvariance(Wakiso.tolist()))\n",
    "print (\"Standard Deviation = \", stats.pstdev(Wakiso.tolist()))\n",
    "print()\n",
    "print (\"Gulu Statistics\")\n",
    "\n",
    "print (\"Mean = \", stats.mean(Gulu.tolist()))\n",
    "print (\"Median = \", stats.median(Gulu.tolist()))\n",
    "print (\"Variance = \", stats.pvariance(Gulu.tolist()))\n",
    "print (\"Standard Deviation = \", stats.pstdev(Gulu.tolist()))"
   ]
  },
  {
   "cell_type": "code",
   "execution_count": 23,
   "id": "5a940dd2-2ce0-4978-a8cb-ce6383133e80",
   "metadata": {},
   "outputs": [
    {
     "name": "stdout",
     "output_type": "stream",
     "text": [
      "Kampala:  [1720, 1800, 3520, 5320, 8840, 14160, 23000]\n",
      "Wakiso:  [1570, 1670, 3240, 4910, 8150, 13060, 21210]\n",
      "Gulu:  [455, 480, 935, 1415, 2350, 3765, 6115]\n"
     ]
    }
   ],
   "source": [
    "#1.3\n",
    "def fib_Kampala(n, first=1720, second=1800):\n",
    "    if n < 1:\n",
    "        return None\n",
    "    if n == 1:\n",
    "        return first\n",
    "    if n == 2:\n",
    "        return second\n",
    "    lst = [first, second]\n",
    "    for i in range(n - 2):\n",
    "        lst.append(lst[-1] + lst[-2])\n",
    "    return lst\n",
    "\n",
    "print(\"Kampala: \", fib_Kampala(7))\n",
    "\n",
    "def fib_Wakiso(n, first=1570, second=1670):\n",
    "    if n < 1:\n",
    "        return None\n",
    "    if n == 1:\n",
    "        return first\n",
    "    if n == 2:\n",
    "        return second\n",
    "    lst = [first, second]\n",
    "    for i in range(n - 2):\n",
    "        lst.append(lst[-1] + lst[-2])\n",
    "    return lst\n",
    "\n",
    "print(\"Wakiso: \", fib_Wakiso(7))\n",
    "\n",
    "def fib_Gulu(n, first=455, second=480):\n",
    "    if n < 1:\n",
    "        return None\n",
    "    if n == 1:\n",
    "        return first\n",
    "    if n == 2:\n",
    "        return second\n",
    "    lst = [first, second]\n",
    "    for i in range(n - 2):\n",
    "        lst.append(lst[-1] + lst[-2])\n",
    "    return lst\n",
    "\n",
    "print(\"Gulu: \", fib_Gulu(7))"
   ]
  },
  {
   "cell_type": "code",
   "execution_count": 24,
   "id": "0632880d-817e-4efd-b00c-a4cac0fb9166",
   "metadata": {},
   "outputs": [
    {
     "name": "stdout",
     "output_type": "stream",
     "text": [
      "Kampala first 10 years variance is:  42601 next 5 years is:  61714720\n",
      "Wakiso first 10 years variance is:  60066 next 5 years is:  52497730\n",
      "Gulu first 10 years variance is:  2885 next 5 years is:  4363030\n"
     ]
    }
   ],
   "source": [
    "#1.4\n",
    "Kampala_nxt5yrs = [3520, 5320, 8840, 14160, 23000]\n",
    "Wakiso_nxt5yrs = [3240, 4910, 8150, 13060, 21210]\n",
    "Gulu_nxt5yrs = [935, 1415, 2350, 3765, 6115]\n",
    "\n",
    "print(\"Kampala first 10 years variance is: \", stats.variance(Kampala), \"next 5 years is: \", stats.variance(Kampala_nxt5yrs))\n",
    "print(\"Wakiso first 10 years variance is: \", stats.variance(Wakiso), \"next 5 years is: \", stats.variance(Wakiso_nxt5yrs))\n",
    "print(\"Gulu first 10 years variance is: \", stats.variance(Gulu), \"next 5 years is: \", stats.variance(Gulu_nxt5yrs))"
   ]
  },
  {
   "cell_type": "code",
   "execution_count": 25,
   "id": "f9b79dd8-a2c1-48e1-9938-52c45a57ce1c",
   "metadata": {},
   "outputs": [],
   "source": [
    "#1.5\n"
   ]
  },
  {
   "cell_type": "code",
   "execution_count": null,
   "id": "6e1d0c26-033f-4b71-b549-167284b9efb5",
   "metadata": {},
   "outputs": [],
   "source": [
    "#2.1\n",
    "D1 = int(input(\"Enter daily demand values D1 here, please: \"))\n",
    "D2 = int(input(\"Enter daily demand values D2 here, please: \"))"
   ]
  },
  {
   "cell_type": "code",
   "execution_count": 20,
   "id": "d424577f-0e0d-4497-a419-f77fc29fc2cb",
   "metadata": {},
   "outputs": [
    {
     "name": "stdin",
     "output_type": "stream",
     "text": [
      "Enter daily demand values D1 here, please:  5\n",
      "Enter daily demand values D2 here, please:  6\n"
     ]
    },
    {
     "name": "stdout",
     "output_type": "stream",
     "text": [
      "solution(x,y): [1.4 0.4]\n"
     ]
    }
   ],
   "source": [
    "#2.2\n",
    "D1 = int(input(\"Enter daily demand values D1 here, please: \"))\n",
    "D2 = int(input(\"Enter daily demand values D2 here, please: \"))\n",
    "\n",
    "\n",
    "a = np.array([[3,2],\n",
    "             [4,1]])\n",
    "b = np.array([D1,D2])\n",
    "\n",
    "from scipy import linalg\n",
    "\n",
    "solution = linalg.solve(a,b)\n",
    "\n",
    "print(\"solution(x,y):\", solution)"
   ]
  },
  {
   "cell_type": "code",
   "execution_count": 21,
   "id": "fcdb5c8b-3bc3-4cb7-9570-ea87295f4597",
   "metadata": {},
   "outputs": [
    {
     "name": "stdin",
     "output_type": "stream",
     "text": [
      "Enter daily demand values D1 here, please:  8\n",
      "Enter daily demand values D2 here, please:  7\n"
     ]
    },
    {
     "name": "stdout",
     "output_type": "stream",
     "text": [
      "solution(x,y): [1.2 2.2]\n"
     ]
    }
   ],
   "source": [
    "#2.3\n",
    "D1 = int(input(\"Enter daily demand values D1 here, please: \"))\n",
    "D2 = int(input(\"Enter daily demand values D2 here, please: \"))\n",
    "\n",
    "\n",
    "a = np.array([[3,2],\n",
    "             [4,1]])\n",
    "b = np.array([D1,D2])\n",
    "\n",
    "from scipy import linalg\n",
    "\n",
    "solution = linalg.solve(a,b)\n",
    "\n",
    "print(\"solution(x,y):\", solution)"
   ]
  },
  {
   "cell_type": "code",
   "execution_count": 22,
   "id": "cc0933ed-ddd4-410f-8fdf-fa9615b285f8",
   "metadata": {},
   "outputs": [
    {
     "name": "stdin",
     "output_type": "stream",
     "text": [
      "Enter daily demand values D1 here, please:  8\n",
      "Enter daily demand values D2 here, please:  5\n"
     ]
    },
    {
     "name": "stdout",
     "output_type": "stream",
     "text": [
      "solution(x,y): [0.4 3.4]\n"
     ]
    }
   ],
   "source": [
    "D1 = int(input(\"Enter daily demand values D1 here, please: \"))\n",
    "D2 = int(input(\"Enter daily demand values D2 here, please: \"))\n",
    "\n",
    "\n",
    "a = np.array([[3,2],\n",
    "             [4,1]])\n",
    "b = np.array([D1,D2])\n",
    "\n",
    "from scipy import linalg\n",
    "\n",
    "solution = linalg.solve(a,b)\n",
    "\n",
    "print(\"solution(x,y):\", solution)"
   ]
  },
  {
   "cell_type": "code",
   "execution_count": 23,
   "id": "108546e2-7c69-4423-9d79-66b7252b89a5",
   "metadata": {},
   "outputs": [
    {
     "name": "stdin",
     "output_type": "stream",
     "text": [
      "Enter daily demand values D1 here, please:  7\n",
      "Enter daily demand values D2 here, please:  6\n"
     ]
    },
    {
     "name": "stdout",
     "output_type": "stream",
     "text": [
      "solution(x,y): [1. 2.]\n"
     ]
    }
   ],
   "source": [
    "D1 = int(input(\"Enter daily demand values D1 here, please: \"))\n",
    "D2 = int(input(\"Enter daily demand values D2 here, please: \"))\n",
    "\n",
    "\n",
    "a = np.array([[3,2],\n",
    "             [4,1]])\n",
    "b = np.array([D1,D2])\n",
    "\n",
    "from scipy import linalg\n",
    "\n",
    "solution = linalg.solve(a,b)\n",
    "\n",
    "print(\"solution(x,y):\", solution)"
   ]
  },
  {
   "cell_type": "code",
   "execution_count": 24,
   "id": "2c1b02bb-334e-4e45-a8a2-41538c597d33",
   "metadata": {},
   "outputs": [
    {
     "name": "stdin",
     "output_type": "stream",
     "text": [
      "Enter daily demand values D1 here, please:  4\n",
      "Enter daily demand values D2 here, please:  9\n"
     ]
    },
    {
     "name": "stdout",
     "output_type": "stream",
     "text": [
      "solution(x,y): [ 2.8 -2.2]\n"
     ]
    }
   ],
   "source": [
    "D1 = int(input(\"Enter daily demand values D1 here, please: \"))\n",
    "D2 = int(input(\"Enter daily demand values D2 here, please: \"))\n",
    "\n",
    "\n",
    "a = np.array([[3,2],\n",
    "             [4,1]])\n",
    "b = np.array([D1,D2])\n",
    "\n",
    "from scipy import linalg\n",
    "\n",
    "solution = linalg.solve(a,b)\n",
    "\n",
    "print(\"solution(x,y):\", solution)"
   ]
  },
  {
   "cell_type": "code",
   "execution_count": 25,
   "id": "88a7f0ff-59b9-4caa-8cef-79b7333b24e8",
   "metadata": {},
   "outputs": [
    {
     "name": "stdin",
     "output_type": "stream",
     "text": [
      "Enter daily demand values D1 here, please:  6\n",
      "Enter daily demand values D2 here, please:  5\n"
     ]
    },
    {
     "name": "stdout",
     "output_type": "stream",
     "text": [
      "solution(x,y): [0.8 1.8]\n"
     ]
    }
   ],
   "source": [
    "D1 = int(input(\"Enter daily demand values D1 here, please: \"))\n",
    "D2 = int(input(\"Enter daily demand values D2 here, please: \"))\n",
    "\n",
    "\n",
    "a = np.array([[3,2],\n",
    "             [4,1]])\n",
    "b = np.array([D1,D2])\n",
    "\n",
    "from scipy import linalg\n",
    "\n",
    "solution = linalg.solve(a,b)\n",
    "\n",
    "print(\"solution(x,y):\", solution)"
   ]
  },
  {
   "cell_type": "code",
   "execution_count": 26,
   "id": "c94dc112-53d8-48d1-9bc0-1b75dd39f69c",
   "metadata": {},
   "outputs": [
    {
     "name": "stdin",
     "output_type": "stream",
     "text": [
      "Enter daily demand values D1 here, please:  4\n",
      "Enter daily demand values D2 here, please:  3\n"
     ]
    },
    {
     "name": "stdout",
     "output_type": "stream",
     "text": [
      "solution(x,y): [0.4 1.4]\n"
     ]
    }
   ],
   "source": [
    "D1 = int(input(\"Enter daily demand values D1 here, please: \"))\n",
    "D2 = int(input(\"Enter daily demand values D2 here, please: \"))\n",
    "\n",
    "\n",
    "a = np.array([[3,2],\n",
    "             [4,1]])\n",
    "b = np.array([D1,D2])\n",
    "\n",
    "from scipy import linalg\n",
    "\n",
    "solution = linalg.solve(a,b)\n",
    "\n",
    "print(\"solution(x,y):\", solution)"
   ]
  },
  {
   "cell_type": "code",
   "execution_count": null,
   "id": "3ec3cd4a-266d-4398-95e6-61fc1f3e6976",
   "metadata": {},
   "outputs": [],
   "source": [
    "#2.3\n",
    "span_bat = np.array([[1.4,-0.4], [1.2,2.2], [0.4,3.4], [1.,2.], [2.8,-2.2], [0.8,1.8], [0.4,1.4]])"
   ]
  },
  {
   "cell_type": "code",
   "execution_count": 27,
   "id": "b2876488-dbb2-4882-9c47-fd6cda1f18b4",
   "metadata": {},
   "outputs": [
    {
     "name": "stdout",
     "output_type": "stream",
     "text": [
      "Mean (x, y): 1.1428571428571428 1.1714285714285715\n",
      "Variance (x, y): 0.5795918367346937 2.9991836734693877\n",
      "Standard deviation (x, y): 0.761309291112813 1.7318151383647702\n"
     ]
    }
   ],
   "source": [
    "#2.4\n",
    "span_bat = np.array([[1.4,-0.4], [1.2,2.2], [0.4,3.4], [1.,2.], [2.8,-2.2], [0.8,1.8], [0.4,1.4]])\n",
    "\n",
    "x_values = [row[0] for row in span_bat]   \n",
    "y_values = [row[1] for row in span_bat]   \n",
    "\n",
    "\n",
    "\n",
    "print(\"Mean (x, y):\", stats.mean(x_values), stats.mean(y_values))\n",
    "print(\"Variance (x, y):\", stats.pvariance(x_values), stats.pvariance(y_values))\n",
    "print(\"Standard deviation (x, y):\", stats.pstdev(x_values), stats.pstdev(y_values))      \n"
   ]
  },
  {
   "cell_type": "code",
   "execution_count": 28,
   "id": "efa5bfa9-2f8b-4935-a38e-1481aa2b45ed",
   "metadata": {},
   "outputs": [
    {
     "data": {
      "image/png": "[encoded data removed]",
      "text/plain": [
       "<Figure size 640x480 with 1 Axes>"
      ]
     },
     "metadata": {},
     "output_type": "display_data"
    }
   ],
   "source": [
    "#2.5\n",
    "span_bat = np.array([[1.4,-0.4], [1.2,2.2], [0.4,3.4], [1.,2.], [2.8,-2.2], [0.8,1.8], [0.4,1.4]])\n",
    "\n",
    "x_values = [row[0] for row in span_bat]   \n",
    "y_values = [row[1] for row in span_bat]\n",
    "\n",
    "plt.plot(x_values, y_values)\n",
    "\n",
    "plt.xlabel(\"Solar panels\")\n",
    "plt.ylabel(\"Batteries\")\n",
    "\n",
    "plt.title(\"Solar vs Battery Usage\")\n",
    "\n",
    "plt.show()"
   ]
  },
  {
   "cell_type": "code",
   "execution_count": 1,
   "id": "6ef20fc9-00c6-4367-80db-a93c22855ac7",
   "metadata": {},
   "outputs": [
    {
     "name": "stdout",
     "output_type": "stream",
     "text": [
      "Fish stock:  [200, 240, 440, 680, 1120, 1800, 2920, 4720, 7640, 12360, 20000, 32360, 52360, 84720, 137080]\n"
     ]
    }
   ],
   "source": [
    "#3.1\n",
    "def fib(n, first = 200, second = 240):\n",
    "    if n < 1:\n",
    "        return None\n",
    "    if n == 1:\n",
    "        return first\n",
    "    if n == 2:\n",
    "        return second\n",
    "    lst = [first, second]\n",
    "    for i in range(3, n+1):\n",
    "        lst.append(lst[-1] + lst[-2])\n",
    "    return lst\n",
    "\n",
    "print(\"Fish stock: \", fib(15))\n"
   ]
  },
  {
   "cell_type": "code",
   "execution_count": 3,
   "id": "fda40ffa-0f92-4d34-927e-7faf716e7cd0",
   "metadata": {},
   "outputs": [
    {
     "name": "stdout",
     "output_type": "stream",
     "text": [
      "[   3000000    4200000    8448000   12240000   22400000   35100000\n",
      "   48764000   99120000  148980000  197760000  420000000  550120000\n",
      "  822052000 1609680000 2947220000]\n"
     ]
    }
   ],
   "source": [
    "#3.2 & 3.3\n",
    "import numpy as np\n",
    "\n",
    "fish_stock = np.array([200, 240, 440, 680, 1120, 1800, 2920, 4720,\n",
    "                       7640, 12360, 20000, 32360, 52360, 84720, 137080])\n",
    "\n",
    "fish_prices = np.array([15000, 17500, 19200, 18000, 20000, 19500, 16700, 21000,\n",
    "                        19500, 16000, 21000, 17000, 15700, 19000, 21500])\n",
    "\n",
    "sales = fish_stock * fish_prices\n",
    "print(sales)\n"
   ]
  },
  {
   "cell_type": "code",
   "execution_count": 7,
   "id": "1deeb409-091a-4d22-bf48-5c70e7c5e8c7",
   "metadata": {},
   "outputs": [
    {
     "name": "stdout",
     "output_type": "stream",
     "text": [
      "Mean of revenue is:  461938933\n",
      "Median of revenue is:  99120000\n",
      "Variance of revenue is:  -35440792374099613\n"
     ]
    }
   ],
   "source": [
    "#3.4\n",
    "import numpy as np\n",
    "import statistics as stats\n",
    "\n",
    "fish_stock = np.array([200, 240, 440, 680, 1120, 1800, 2920, 4720,\n",
    "                       7640, 12360, 20000, 32360, 52360, 84720, 137080])\n",
    "\n",
    "fish_prices = np.array([15000, 17500, 19200, 18000, 20000, 19500, 16700, 21000,\n",
    "                        19500, 16000, 21000, 17000, 15700, 19000, 21500])\n",
    "\n",
    "sales = fish_stock * fish_prices\n",
    "\n",
    "print(\"Mean of revenue is: \", stats.mean(sales))\n",
    "print(\"Median of revenue is: \", stats.median(sales))\n",
    "print(\"Variance of revenue is: \", stats.pvariance(sales))"
   ]
  },
  {
   "cell_type": "code",
   "execution_count": 8,
   "id": "b5d35802-3543-4370-8886-244413da5a3e",
   "metadata": {},
   "outputs": [
    {
     "name": "stdout",
     "output_type": "stream",
     "text": [
      "Low risk\n"
     ]
    }
   ],
   "source": [
    "#3.5\n",
    "\n",
    "import numpy as np\n",
    "import statistics as stats\n",
    "\n",
    "fish_stock = np.array([200, 240, 440, 680, 1120, 1800, 2920, 4720,\n",
    "                       7640, 12360, 20000, 32360, 52360, 84720, 137080])\n",
    "\n",
    "fish_prices = np.array([15000, 17500, 19200, 18000, 20000, 19500, 16700, 21000,\n",
    "                        19500, 16000, 21000, 17000, 15700, 19000, 21500])\n",
    "\n",
    "sales = fish_stock * fish_prices\n",
    "\n",
    "if stats.pvariance(sales) > 50000:\n",
    "    print(\"High risk\")\n",
    "else:\n",
    "    print(\"Low risk\")"
   ]
  },
  {
   "cell_type": "code",
   "execution_count": 10,
   "id": "27057960-3119-4af6-9c49-3296d99112e6",
   "metadata": {},
   "outputs": [
    {
     "data": {
      "image/png": "[encoded data removed]",
      "text/plain": [
       "<Figure size 640x480 with 1 Axes>"
      ]
     },
     "metadata": {},
     "output_type": "display_data"
    }
   ],
   "source": [
    "#3.5\n",
    "import numpy as np\n",
    "import statistics as stats\n",
    "import matplotlib.pyplot as plt\n",
    "import statistics as stats\n",
    "\n",
    "fish_stock = np.array([200, 240, 440, 680, 1120, 1800, 2920, 4720,\n",
    "                       7640, 12360, 20000, 32360, 52360, 84720, 137080])\n",
    "\n",
    "fish_prices = np.array([15000, 17500, 19200, 18000, 20000, 19500, 16700, 21000,\n",
    "                        19500, 16000, 21000, 17000, 15700, 19000, 21500])\n",
    "\n",
    "sales = fish_stock * fish_prices\n",
    "\n",
    "\n",
    "plt.plot(fish_stock, sales)\n",
    "plt.xlabel(\"Fish stock(tonnes)\")\n",
    "plt.ylabel(\"Revnue (Shs)\")\n",
    "plt.title(\"Lake Victoria fish stock vs revenues\")\n",
    "plt.grid(True)\n",
    "\n",
    "plt.show()"
   ]
  },
  {
   "cell_type": "code",
   "execution_count": null,
   "id": "39637133-42b1-4d03-91cf-1baa52835b1b",
   "metadata": {},
   "outputs": [],
   "source": [
    "#4.1\n",
    "Kampala_rain = np.array([120, 140, 180, 200, 220, 180, 90, 70, 60, 100, 110, 130])"
   ]
  },
  {
   "cell_type": "code",
   "execution_count": 11,
   "id": "2186c45e-3243-4585-bc82-af9379817c78",
   "metadata": {},
   "outputs": [
    {
     "name": "stdout",
     "output_type": "stream",
     "text": [
      "Mean rain is:  133 mm\n",
      "Jan -> Drought risk\n",
      "Feb -> Drought risk\n",
      "March -> Good for maize\n",
      "April -> Good for maize\n",
      "May -> Good for maize\n",
      "June -> Good for maize\n",
      "July -> Drought risk\n",
      "Aug -> Drought risk\n",
      "Sep -> Drought risk\n",
      "Oct -> Drought risk\n",
      "Nov -> Drought risk\n",
      "Dec -> Drought risk\n"
     ]
    }
   ],
   "source": [
    "#4.2\n",
    "Kampala_rain = np.array([120, 140, 180, 200, 220, 180, 90, 70, 60, 100, 110, 130])\n",
    "months = (\"Jan\", \"Feb\", \"March\", \"April\", \"May\", \"June\", \"July\", \"Aug\", \"Sep\", \"Oct\", \"Nov\", \"Dec\")\n",
    "\n",
    "print(\"Mean rain is: \", stats.mean(Kampala_rain), \"mm\")\n",
    "\n",
    "for Kampala_rain, months in zip(Kampala_rain, months):\n",
    "    if Kampala_rain > 150:\n",
    "        print (months, \"-> Good for maize\")\n",
    "    else:\n",
    "        print(months, \"-> Drought risk\")"
   ]
  },
  {
   "cell_type": "code",
   "execution_count": null,
   "id": "83f8bc93-84cd-417e-8168-48e4a7e06071",
   "metadata": {},
   "outputs": [],
   "source": [
    "#4.3\n",
    "Gulu_rain = np.array([90, 80, 90, 100, 110, 110, 160, 170, 200, 190, 210, 220])"
   ]
  },
  {
   "cell_type": "code",
   "execution_count": 15,
   "id": "1995cc3d-306c-4594-8a47-7031f9d651aa",
   "metadata": {},
   "outputs": [
    {
     "name": "stdout",
     "output_type": "stream",
     "text": [
      "cosine similarity:  0.8101550126192203\n"
     ]
    }
   ],
   "source": [
    "#4.4\n",
    "import math\n",
    "\n",
    "Gulu_rain = np.array([90, 80, 90, 100, 110, 110, 160, 170, 200, 190, 210, 220])\n",
    "Kampala_rain = np.array([120, 140, 180, 200, 220, 180, 90, 70, 60, 100, 110, 130])\n",
    "months = (\"Jan\", \"Feb\", \"March\", \"April\", \"May\", \"June\", \"July\", \"Aug\", \"Sep\", \"Oct\", \"Nov\", \"Dec\")\n",
    "\n",
    "dot = float(np.dot(Kampala_rain, Gulu_rain))\n",
    "norm_a = math.sqrt(float(np.dot(Kampala_rain, Kampala_rain)))\n",
    "norm_b = math.sqrt(float(np.dot(Gulu_rain, Gulu_rain)))\n",
    "cos_sim = dot / (norm_a * norm_b)\n",
    "\n",
    "print(\"cosine similarity: \", cos_sim)"
   ]
  },
  {
   "cell_type": "code",
   "execution_count": 16,
   "id": "ae3073ca-23bf-4730-9f3e-1e02e1eb400d",
   "metadata": {},
   "outputs": [
    {
     "data": {
      "image/png": "[encoded data removed]",
      "text/plain": [
       "<Figure size 640x480 with 1 Axes>"
      ]
     },
     "metadata": {},
     "output_type": "display_data"
    }
   ],
   "source": [
    "#4.5\n",
    "Kampala_rain = np.array([120, 140, 180, 200, 220, 180,\n",
    "                         90, 70, 60, 100, 110, 130])\n",
    "months = [\"Jan\", \"Feb\", \"March\", \"April\", \"May\", \"June\",\n",
    "          \"July\", \"Aug\", \"Sep\", \"Oct\", \"Nov\", \"Dec\"]\n",
    "\n",
    "\n",
    "        \n",
    "Gulu_rain = np.array([90, 80, 90, 100, 110, 110, 160, 170, 200, 190, 210, 220])\n",
    "\n",
    "\n",
    "plt.plot(months, Kampala_rain, color = 'blue')\n",
    "plt.plot(months, Gulu_rain, color = 'orange')\n",
    "plt.title(\"Monthly Rainfall in Kampala and Gulu\")\n",
    "plt.xlabel(\"Month\")\n",
    "plt.ylabel(\"Rainfall (mm)\")\n",
    "plt.grid(True)\n",
    "plt.show()"
   ]
  },
  {
   "cell_type": "code",
   "execution_count": null,
   "id": "129481e0-3715-429c-86f6-e38a50bbd321",
   "metadata": {},
   "outputs": [],
   "source": [
    "#5.1\n",
    "pass_count = np.array([35, 40, 42, 50, 55, 60, 48, 52, 47, 45])"
   ]
  },
  {
   "cell_type": "code",
   "execution_count": 17,
   "id": "02ada82b-e62e-425b-933b-4fd850f9e1b4",
   "metadata": {},
   "outputs": [
    {
     "name": "stdout",
     "output_type": "stream",
     "text": [
      "[ 70000  80000  84000 100000 110000 120000  96000 104000  94000  90000]\n"
     ]
    }
   ],
   "source": [
    "#5.2\n",
    "pass_count = np.array([35, 40, 42, 50, 55, 60, 48, 52, 47, 45])\n",
    "fare = 2000\n",
    "\n",
    "drevenue = pass_count * fare\n",
    "\n",
    "print(drevenue)"
   ]
  },
  {
   "cell_type": "code",
   "execution_count": 18,
   "id": "2df999d6-02ac-410b-8cf5-c811cbdd6205",
   "metadata": {},
   "outputs": [
    {
     "name": "stdout",
     "output_type": "stream",
     "text": [
      "Mean revenue is:  94800\n",
      "Variance of revenue is:  195360000\n",
      "Standard deviation of revenue is:  13977.124167724918\n"
     ]
    }
   ],
   "source": [
    "#5.3\n",
    "pass_count = np.array([35, 40, 42, 50, 55, 60, 48, 52, 47, 45])\n",
    "fare = 2000\n",
    "\n",
    "drevenue = pass_count * fare\n",
    "\n",
    "print(\"Mean revenue is: \", stats.mean(drevenue))\n",
    "print(\"Variance of revenue is: \", stats.pvariance(drevenue))\n",
    "print(\"Standard deviation of revenue is: \", stats.pstdev(drevenue.tolist()))\n"
   ]
  },
  {
   "cell_type": "code",
   "execution_count": null,
   "id": "456ec327-a088-477f-8840-e036cac9418e",
   "metadata": {},
   "outputs": [],
   "source": [
    "#5.4\n"
   ]
  },
  {
   "cell_type": "code",
   "execution_count": 19,
   "id": "661d91dd-3370-4fed-9084-1bf1703ef607",
   "metadata": {},
   "outputs": [
    {
     "name": "stdout",
     "output_type": "stream",
     "text": [
      "11th day revenue is:  96000.0\n"
     ]
    }
   ],
   "source": [
    "#5.5\n",
    "\n",
    "pass_count = np.array([35, 40, 42, 50, 55, 60, 48, 52, 47, 45])\n",
    "fare = 2000\n",
    "\n",
    "drevenue = pass_count * fare\n",
    "avlast3 = ((pass_count[-3] + pass_count[-2] + pass_count[-1])/3)\n",
    "\n",
    "print(\"11th day revenue is: \", avlast3*fare)"
   ]
  },
  {
   "cell_type": "code",
   "execution_count": null,
   "id": "2f15b99e-f1e9-4bb7-a857-6b19ec4a7371",
   "metadata": {},
   "outputs": [],
   "source": [
    "#5.6"
   ]
  }
 ],
 "metadata": {
  "kernelspec": {
   "display_name": "Python [conda env:base] *",
   "language": "python",
   "name": "conda-base-py"
  },
  "language_info": {
   "codemirror_mode": {
    "name": "ipython",
    "version": 3
   },
   "file_extension": ".py",
   "mimetype": "text/x-python",
   "name": "python",
   "nbconvert_exporter": "python",
   "pygments_lexer": "ipython3",
   "version": "3.13.5"
  }
 },
 "nbformat": 4,
 "nbformat_minor": 5
}
