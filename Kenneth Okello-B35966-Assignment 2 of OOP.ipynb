{
 "cells": [
  {
   "cell_type": "code",
   "execution_count": 1,
   "id": "d2a85248-acab-4195-8dbb-f74cd80cae40",
   "metadata": {},
   "outputs": [
    {
     "name": "stdout",
     "output_type": "stream",
     "text": [
      "Bosco : 200900 UGX ( Domestic )\n",
      "Ruth : 246000 UGX ( Domestic )\n",
      "Alvin : 700000 UGX ( Commercial )\n",
      "Peter : 82000 UGX ( Domestic )\n",
      "Jane : 500000 UGX ( Commercial )\n",
      "Jackie : 800000 UGX ( Commercial )\n",
      "Cathy : 328000 UGX ( Domestic )\n",
      "Sebastien : 900000 UGX ( Commercial )\n",
      "Arthur : 600000 UGX ( Commercial )\n",
      "Zaitun : 451000 UGX ( Domestic )\n"
     ]
    }
   ],
   "source": [
    "#Kenneth Okello-B35966-MSDS\n",
    "#1.1\n",
    "customer_name = [\"Bosco\", \"Ruth\", \"Alvin\", \"Peter\", \"Jane\", \"Jackie\", \"Cathy\", \"Sebastien\", \"Arthur\", \"Zaitun\"]\n",
    "units_used = [245, 300, 700, 100, 500, 800, 400, 900, 600, 550]\n",
    "connection_type = [\"Domestic\", \"Domestic\", \"Commercial\", \"Domestic\", \"Commercial\", \"Commercial\", \"Domestic\", \"Commercial\", \"Commercial\", \"Domestic\"\n",
    "                  ]\n",
    "\n",
    "#zipping elements of the three variables to pair them up\n",
    "customer_data = zip(customer_name, units_used, connection_type)\n",
    "\n",
    "#using map() and lambda function to every item in the list\n",
    "total_bills = map(lambda cd: (cd[0], cd[1]*(820 if cd[2] == \"Domestic\" else 1000), cd[2]), customer_data)\n",
    "\n",
    "#using a for loop\n",
    "for name, bill, ctype in total_bills:\n",
    "    print(name, \":\", bill, \"UGX\", \"(\",ctype,\")\")\n"
   ]
  },
  {
   "cell_type": "code",
   "execution_count": 18,
   "id": "900a4ebe-54b3-4a91-a82a-5d1d51a7a6f6",
   "metadata": {},
   "outputs": [
    {
     "name": "stdout",
     "output_type": "stream",
     "text": [
      "High consumers\n",
      "Alvin : 700000 UGX Commercial 700 units\n",
      "Jackie : 800000 UGX Commercial 800 units\n",
      "Sebastien : 900000 UGX Commercial 900 units\n",
      "Arthur : 600000 UGX Commercial 600 units\n",
      "Zaitun : 451000 UGX Domestic 550 units\n"
     ]
    }
   ],
   "source": [
    "#1.2\n",
    "customer_name = [\"Bosco\", \"Ruth\", \"Alvin\", \"Peter\", \"Jane\", \"Jackie\", \"Cathy\", \"Sebastien\", \"Arthur\", \"Zaitun\"]\n",
    "units_used = [245, 300, 700, 100, 500, 800, 400, 900, 600, 550]\n",
    "connection_type = [\"Domestic\", \"Domestic\", \"Commercial\", \"Domestic\", \"Commercial\", \"Commercial\", \"Domestic\", \"Commercial\", \"Commercial\", \"Domestic\"\n",
    "                  ]\n",
    "customer_data = zip(customer_name, units_used, connection_type)\n",
    "\n",
    "\n",
    "total_bills = map(lambda cd: (cd[0], cd[1]*(820 if cd[2] == \"Domestic\" else 1000), cd[2]), customer_data)\n",
    "\n",
    "\n",
    "overall_consumption = map(lambda cd: (cd[0], cd[1]*(820 if cd[2] == \"Domestic\" else 1000), cd[2], cd[1]), customer_data)\n",
    "\n",
    "#using filter() and lambda function to filter out >500\n",
    "high_consumers = list(filter(lambda oc: oc[3] > 500, overall_consumption))\n",
    "\n",
    "print(\"High consumers\")\n",
    "\n",
    "#using a for loop to produce list of consumers at > 500\n",
    "for name, bill, ctype, units in high_consumers:\n",
    "    print(name, \":\", bill, \"UGX\", ctype, units, \"units\")"
   ]
  },
  {
   "cell_type": "code",
   "execution_count": 21,
   "id": "0ba8a01d-6ced-4af0-b7f9-a707ecac639b",
   "metadata": {},
   "outputs": [
    {
     "name": "stdout",
     "output_type": "stream",
     "text": [
      "Average bill is:  480790.0\n"
     ]
    }
   ],
   "source": [
    "#1.3\n",
    "customer_name = [\"Bosco\", \"Ruth\", \"Alvin\", \"Peter\", \"Jane\", \"Jackie\", \"Cathy\", \"Sebastien\", \"Arthur\", \"Zaitun\"]\n",
    "units_used = [245, 300, 700, 100, 500, 800, 400, 900, 600, 550]\n",
    "connection_type = [\"Domestic\", \"Domestic\", \"Commercial\", \"Domestic\", \"Commercial\", \"Commercial\", \"Domestic\", \"Commercial\", \"Commercial\", \"Domestic\"]\n",
    "\n",
    "customer_data = zip(customer_name, units_used, connection_type)\n",
    "\n",
    "total_consumption = list(map(lambda cd: (cd[0], cd[1]*(820 if cd[2] == \"Domestic\" else 1000), cd[2]), customer_data))\n",
    "\n",
    "bills_only = [i[1] for i in total_consumption]\n",
    "\n",
    "#defining average_bill(*args) that prints average bill\n",
    "def average_bill(*bills):\n",
    "    total = 0\n",
    "    for bill in bills:\n",
    "        total += bill\n",
    "    return total / len(bills)\n",
    "\n",
    "print(\"Average bill is: \", average_bill(*bills_only))\n"
   ]
  },
  {
   "cell_type": "code",
   "execution_count": 1,
   "id": "d8de35ff-acc0-4647-9cf1-f6aaeed293a0",
   "metadata": {},
   "outputs": [
    {
     "name": "stdout",
     "output_type": "stream",
     "text": [
      "['Bosco: UGX 200,900', 'Ruth: UGX 246,000', 'Alvin: UGX 700,000', 'Peter: UGX 82,000', 'Jane: UGX 500,000', 'Jackie: UGX 800,000', 'Cathy: UGX 328,000', 'Sebastien: UGX 900,000', 'Arthur: UGX 600,000', 'Zaitun: UGX 451,000']\n"
     ]
    }
   ],
   "source": [
    "#1.4\n",
    "customer_name = [\"Bosco\", \"Ruth\", \"Alvin\", \"Peter\", \"Jane\", \"Jackie\", \"Cathy\", \"Sebastien\", \"Arthur\", \"Zaitun\"]\n",
    "units_used = [245, 300, 700, 100, 500, 800, 400, 900, 600, 550]\n",
    "connection_type = [\"Domestic\", \"Domestic\", \"Commercial\", \"Domestic\", \"Commercial\", \"Commercial\", \"Domestic\", \"Commercial\", \"Commercial\", \"Domestic\"\n",
    "                  ]\n",
    "\n",
    "customer_data = list(zip(customer_name, units_used, connection_type))\n",
    "\n",
    "total_bills = list(map(lambda cd: (cd[0], cd[1]*(820 if cd[2] == \"Domestic\" else 1000), cd[2]), customer_data))\n",
    " \n",
    "#this line of code defines a list comprehension\n",
    "name_bills = [cd[0] + \": UGX \" + format(cd[1], \",\") for cd in total_bills]\n",
    "\n",
    "print(name_bills)\n",
    "\n"
   ]
  },
  {
   "cell_type": "code",
   "execution_count": 22,
   "id": "4a8d3b4a-21d2-4e8f-980a-6f2706101f8a",
   "metadata": {},
   "outputs": [
    {
     "name": "stdout",
     "output_type": "stream",
     "text": [
      "[(2500, 3000, 4500), (2700, 3200, 4600), (2600, 3100, 4550), (2800, 3050, 4700)]\n"
     ]
    }
   ],
   "source": [
    "#2.1\n",
    "mango_prices = [2500, 2700, 2600, 2800] \n",
    "orange_prices = [3000, 3200, 3100, 3050] \n",
    "apple_prices = [4500, 4600, 4550, 4700]\n",
    "\n",
    "from itertools import zip_longest\n",
    "\n",
    "#zip_longest pairs elements until the longest iterable is exhausted and fills missing values with a placeholder\n",
    "fruit_prices = list(zip_longest(mango_prices, orange_prices, apple_prices))\n",
    "\n",
    "print(fruit_prices)"
   ]
  },
  {
   "cell_type": "code",
   "execution_count": 25,
   "id": "bf93e8d6-ae58-420d-b1b6-2cc8c6b4510c",
   "metadata": {},
   "outputs": [
    {
     "name": "stdout",
     "output_type": "stream",
     "text": [
      "Day Mango Orange Apple\n",
      "Day1 2500 3000 4500\n",
      "Day2 2700 3200 4600\n",
      "Day3 2600 3100 4550\n",
      "Day4 2800 3050 4700\n"
     ]
    }
   ],
   "source": [
    "#2.1\n",
    "days = [\"Day1\", \"Day2\", \"Day3\", \"Day4\"]\n",
    "mango_prices = [2500, 2700, 2600, 2800] \n",
    "orange_prices = [3000, 3200, 3100, 3050] \n",
    "apple_prices = [4500, 4600, 4550, 4700]\n",
    "\n",
    "from itertools import zip_longest\n",
    "\n",
    "fruit_prices = list(zip_longest(days, mango_prices, orange_prices, apple_prices))\n",
    "\n",
    "print(\"Day\", \"Mango\", \"Orange\", \"Apple\")\n",
    "\n",
    "for i in fruit_prices:\n",
    "    print(i[0], i[1], i[2], i[3])"
   ]
  },
  {
   "cell_type": "code",
   "execution_count": 2,
   "id": "ebb48322-ea97-4011-8a85-cf38c6d141ea",
   "metadata": {},
   "outputs": [
    {
     "name": "stdout",
     "output_type": "stream",
     "text": [
      "Average prices per fruit\n",
      "Mango:  2650.0\n",
      "Orange:  3087.5\n",
      "Apple:  4587.5\n"
     ]
    }
   ],
   "source": [
    "#2.2\n",
    "days = [\"Day1\", \"Day2\", \"Day3\", \"$ay4\"]\n",
    "mango_prices = [2500, 2700, 2600, 2800] \n",
    "orange_prices = [3000, 3200, 3100, 3050] \n",
    "apple_prices = [4500, 4600, 4550, 4700]\n",
    "\n",
    "avg = lambda lst: sum(lst)/len(lst)\n",
    "\n",
    "#lambda function to compute average price per fruit\n",
    "mango_avgprice = avg(mango_prices)\n",
    "orange_avgprice = avg(orange_prices)\n",
    "apple_avgprice = avg(apple_prices)\n",
    "                      \n",
    "print(\"Average prices per fruit\")\n",
    "\n",
    "print(\"Mango: \", mango_avgprice)\n",
    "print(\"Orange: \", orange_avgprice)\n",
    "print(\"Apple: \", apple_avgprice)  "
   ]
  },
  {
   "cell_type": "code",
   "execution_count": 3,
   "id": "d33cfdb2-e1c2-4815-abaf-11bc6b88126a",
   "metadata": {},
   "outputs": [
    {
     "name": "stdout",
     "output_type": "stream",
     "text": [
      "Orange\n",
      "Apple\n"
     ]
    }
   ],
   "source": [
    "#2.3\n",
    "mango_prices = [2500, 2700, 2600, 2800] \n",
    "orange_prices = [3000, 3200, 3100, 3050] \n",
    "apple_prices = [4500, 4600, 4550, 4700]\n",
    "\n",
    "fruit_prices = {\n",
    "    \"Mango\": mango_prices,\n",
    "    \"Orange\": orange_prices,\n",
    "    \"Apple\": apple_prices\n",
    "    }\n",
    "\n",
    "#generator function yielding fruits with average above 3000\n",
    "above_3000 = (fruit for fruit, prices in fruit_prices.items() if sum(prices)/len(prices) > 3000)\n",
    "\n",
    "for fruit in above_3000:\n",
    "    print(fruit)"
   ]
  },
  {
   "cell_type": "code",
   "execution_count": 4,
   "id": "cbe6d04b-ae3c-4b9c-987f-bc1a475c5358",
   "metadata": {},
   "outputs": [
    {
     "name": "stdout",
     "output_type": "stream",
     "text": [
      "Fruits above average price:  Orange, Apple\n"
     ]
    }
   ],
   "source": [
    "#2.4\n",
    "mango_prices = [2500, 2700, 2600, 2800] \n",
    "orange_prices = [3000, 3200, 3100, 3050] \n",
    "apple_prices = [4500, 4600, 4550, 4700]\n",
    "\n",
    "fruit_prices = {\n",
    "    \"Mango\": mango_prices,\n",
    "    \"Orange\": orange_prices,\n",
    "    \"Apple\": apple_prices\n",
    "    }\n",
    "\n",
    "above_3000 = list(fruit for fruit, prices in fruit_prices.items() if sum(prices)/len(prices) > 3000)\n",
    "\n",
    "#here i used the .join() function to seperate months with comma\n",
    "print(\"Fruits above average price: \", \", \".join(above_3000))\n"
   ]
  },
  {
   "cell_type": "code",
   "execution_count": 26,
   "id": "869b0046-55f1-411f-bcf4-eae1f5656812",
   "metadata": {},
   "outputs": [
    {
     "name": "stdout",
     "output_type": "stream",
     "text": [
      "Temperatures in Fahrenheit\n",
      "kampala: [82.4, 86.0, 84.2, 80.6, 78.8, 84.2, 86.0, 87.8, 89.6, 86.0, 84.2, 82.4]\n",
      "gulu: [77.0, 78.8, 80.6, 80.6, 82.4, 84.2, 86.0, 86.0, 84.2, 80.6, 78.8, 77.0]\n",
      "mbarara: [71.6, 73.4, 73.4, 75.2, 77.0, 77.0, 78.8, 80.6, 80.6, 78.8, 75.2, 73.4]\n"
     ]
    }
   ],
   "source": [
    "#3.1\n",
    "kampala = [28, 30, 29, 27, 26, 29, 30, 31, 32, 30, 29, 28] \n",
    "gulu = [25, 26, 27, 27, 28, 29, 30, 30, 29, 27, 26, 25] \n",
    "mbarara = [22, 23, 23, 24, 25, 25, 26, 27, 27, 26, 24, 23]\n",
    "\n",
    "#here i used a map() and lambda function to pair up elements and convert to fahrenheit using formula\n",
    "kampalaF = list(map(lambda kla: ((kla*9/5)+32), kampala))\n",
    "guluF = list(map(lambda glu: ((glu*9/5)+32), gulu))\n",
    "mbararaF = list(map(lambda mra: ((mra*9/5)+32), mbarara))\n",
    "\n",
    "print(\"Temperatures in Fahrenheit\")\n",
    "print(\"kampala:\", kampalaF)\n",
    "print(\"gulu:\", guluF)\n",
    "print(\"mbarara:\", mbararaF)"
   ]
  },
  {
   "cell_type": "code",
   "execution_count": 27,
   "id": "8d51e715-27fa-4c56-9b52-2cd0c239e789",
   "metadata": {},
   "outputs": [
    {
     "name": "stdout",
     "output_type": "stream",
     "text": [
      "[('Jan', 28), ('Feb', 30), ('Mar', 29), ('Apr', 27), ('May', 26), ('Jun', 29), ('Jul', 30), ('Aug', 31), ('Sep', 32), ('Oct', 30), ('Nov', 29), ('Dec', 28)]\n",
      "[('Jan', 82.4), ('Feb', 86.0), ('Mar', 84.2), ('Apr', 80.6), ('May', 78.8), ('Jun', 84.2), ('Jul', 86.0), ('Aug', 87.8), ('Sep', 89.6), ('Oct', 86.0), ('Nov', 84.2), ('Dec', 82.4)]\n"
     ]
    }
   ],
   "source": [
    "#3.2\n",
    "kampala = [28, 30, 29, 27, 26, 29, 30, 31, 32, 30, 29, 28] \n",
    "gulu = [25, 26, 27, 27, 28, 29, 30, 30, 29, 27, 26, 25] \n",
    "mbarara = [22, 23, 23, 24, 25, 25, 26, 27, 27, 26, 24, 23]\n",
    "\n",
    "kampalaF = list(map(lambda kla: ((kla*9/5)+32), kampala))\n",
    "guluF = list(map(lambda glu: ((glu*9/5)+32), gulu))\n",
    "mbararaF = list(map(lambda mra: ((mra*9/5)+32), mbarara))\n",
    "\n",
    "months = [\"Jan\", \"Feb\", \"Mar\", \"Apr\", \"May\", \"Jun\",\n",
    "          \"Jul\", \"Aug\", \"Sep\", \"Oct\", \"Nov\", \"Dec\"]\n",
    "\n",
    "zipped_C = list(zip(months, kampala))\n",
    "\n",
    "zipped_F = list(zip(months, kampalaF))\n",
    "\n",
    "print(zipped_C)\n",
    "print(zipped_F)"
   ]
  },
  {
   "cell_type": "code",
   "execution_count": 28,
   "id": "28de5e08-f7d6-4b2f-b3da-4869dea72253",
   "metadata": {},
   "outputs": [
    {
     "name": "stdout",
     "output_type": "stream",
     "text": [
      "[('Aug', 31), ('Sep', 32)]\n"
     ]
    }
   ],
   "source": [
    "#3.3\n",
    "kampala = [28, 30, 29, 27, 26, 29, 30, 31, 32, 30, 29, 28] \n",
    "gulu = [25, 26, 27, 27, 28, 29, 30, 30, 29, 27, 26, 25] \n",
    "mbarara = [22, 23, 23, 24, 25, 25, 26, 27, 27, 26, 24, 23]\n",
    "\n",
    "months = [\"Jan\", \"Feb\", \"Mar\", \"Apr\", \"May\", \"Jun\",\n",
    "          \"Jul\", \"Aug\", \"Sep\", \"Oct\", \"Nov\", \"Dec\"]\n",
    "\n",
    "zipped_C = list(zip(months, kampala))\n",
    "\n",
    "high_temps = list(filter(lambda tempk: (tempk[1] > 30), zipped_C))\n",
    "\n",
    "print(high_temps)"
   ]
  },
  {
   "cell_type": "code",
   "execution_count": 5,
   "id": "26e27dd0-6116-4c89-baaf-985462c81852",
   "metadata": {},
   "outputs": [
    {
     "name": "stdout",
     "output_type": "stream",
     "text": [
      "Aug - 31 C\n",
      "Sep - 32 C\n"
     ]
    }
   ],
   "source": [
    "#3.4\n",
    "kampala = [28, 30, 29, 27, 26, 29, 30, 31, 32, 30, 29, 28] \n",
    "gulu = [25, 26, 27, 27, 28, 29, 30, 30, 29, 27, 26, 25] \n",
    "mbarara = [22, 23, 23, 24, 25, 25, 26, 27, 27, 26, 24, 23]\n",
    "\n",
    "months = [\"Jan\", \"Feb\", \"Mar\", \"Apr\", \"May\", \"Jun\",\n",
    "          \"Jul\", \"Aug\", \"Sep\", \"Oct\", \"Nov\", \"Dec\"]\n",
    "\n",
    "zipped_C = list(zip(months, kampala))\n",
    "\n",
    "#using filter() and lambda function to filter out months with temperatures above 30'C\n",
    "high_temps = list(filter(lambda tempk: (tempk[1] > 30), zipped_C))\n",
    "\n",
    "for month, temp in high_temps:\n",
    "    print(month, \"-\", temp, \"C\")\n"
   ]
  },
  {
   "cell_type": "code",
   "execution_count": 6,
   "id": "a9abf025-c008-42c2-ae93-7abbd7024260",
   "metadata": {},
   "outputs": [
    {
     "name": "stdout",
     "output_type": "stream",
     "text": [
      "Hot months in Kampala: Aug - 31°C, Sep - 32°C\n"
     ]
    }
   ],
   "source": [
    "#3.5\n",
    "kampala = [28, 30, 29, 27, 26, 29, 30, 31, 32, 30, 29, 28] \n",
    "gulu = [25, 26, 27, 27, 28, 29, 30, 30, 29, 27, 26, 25] \n",
    "mbarara = [22, 23, 23, 24, 25, 25, 26, 27, 27, 26, 24, 23]\n",
    "\n",
    "months = [\"Jan\", \"Feb\", \"Mar\", \"Apr\", \"May\", \"Jun\",\n",
    "          \"Jul\", \"Aug\", \"Sep\", \"Oct\", \"Nov\", \"Dec\"]\n",
    "\n",
    "zipped_C = list(zip(months, kampala))\n",
    "\n",
    "high_temps = list(filter(lambda tempk: (tempk[1] > 30), zipped_C))\n",
    "\n",
    "#using .join() to print a friendlier looking output\n",
    "print(\"Hot months in Kampala:\", \", \".join([month + \" - \" + str(temp) + \"°C\" for month, temp in high_temps]))"
   ]
  },
  {
   "cell_type": "code",
   "execution_count": 15,
   "id": "8e5f2089-d0f4-4aca-a172-18a75aecdcd9",
   "metadata": {},
   "outputs": [
    {
     "name": "stdout",
     "output_type": "stream",
     "text": [
      "[600000, 700000, 900000, 500000]\n"
     ]
    }
   ],
   "source": [
    "#4.1\n",
    "students = ['Alex', 'Grace', 'Sarah', 'Brian']\n",
    "installments = [\n",
    "    [150000, 200000, 250000],\n",
    "    [500000, 0, 200000],\n",
    "    [300000, 300000, 300000],\n",
    "    [400000, 100000, 0]\n",
    "]\n",
    "\n",
    "# Lambda function to sum only valid (non-zero) payments\n",
    "valid_sum = lambda payments: sum(p for p in payments if p > 0)\n",
    "\n",
    "# Applying to each student's installments using map()\n",
    "total_valid = list(map(valid_sum, installments))\n",
    "\n",
    "print(total_valid)"
   ]
  },
  {
   "cell_type": "code",
   "execution_count": 29,
   "id": "247dd5a1-58a1-46af-bc8a-bcc0556c4e47",
   "metadata": {},
   "outputs": [
    {
     "name": "stdout",
     "output_type": "stream",
     "text": [
      "[600000, 700000, 900000, 500000]\n"
     ]
    }
   ],
   "source": [
    "#4.2\n",
    "students = ['Alex', 'Grace', 'Sarah', 'Brian'] \n",
    "installments = [ \n",
    "[150000, 200000, 250000], \n",
    "[500000, 0, 200000], \n",
    "[300000, 300000, 300000], \n",
    "[400000, 100000, 0] \n",
    "]\n",
    "\n",
    "total_paid = list(map(lambda payments: (sum(payments)), installments))\n",
    "\n",
    "print(total_paid)"
   ]
  },
  {
   "cell_type": "code",
   "execution_count": 30,
   "id": "95e7255a-9f26-4353-b340-57af06e06bbd",
   "metadata": {},
   "outputs": [
    {
     "name": "stdout",
     "output_type": "stream",
     "text": [
      "[('Alex', 600000), ('Grace', 700000), ('Sarah', 900000), ('Brian', 500000)]\n"
     ]
    }
   ],
   "source": [
    "#4.3\n",
    "students = ['Alex', 'Grace', 'Sarah', 'Brian'] \n",
    "installments = [ \n",
    "[150000, 200000, 250000], \n",
    "[500000, 0, 200000], \n",
    "[300000, 300000, 300000], \n",
    "[400000, 100000, 0] \n",
    "]\n",
    "\n",
    "total_paid = list(map(lambda payments: (sum(payments)), installments))\n",
    "\n",
    "zipped_total = list(zip(students, total_paid))\n",
    "\n",
    "print(zipped_total)"
   ]
  },
  {
   "cell_type": "code",
   "execution_count": 31,
   "id": "8d67f7c3-3e3f-476f-9db4-a56f1d0b58ee",
   "metadata": {},
   "outputs": [
    {
     "name": "stdout",
     "output_type": "stream",
     "text": [
      "[('Alex', 600000), ('Grace', 700000), ('Sarah', 900000)]\n"
     ]
    }
   ],
   "source": [
    "#4.4\n",
    "students = ['Alex', 'Grace', 'Sarah', 'Brian'] \n",
    "installments = [ \n",
    "[150000, 200000, 250000], \n",
    "[500000, 0, 200000], \n",
    "[300000, 300000, 300000], \n",
    "[400000, 100000, 0] \n",
    "]\n",
    "\n",
    "total_paid = list(map(lambda payments: (sum(payments)), installments))\n",
    "\n",
    "zipped_total = list(zip(students, total_paid))\n",
    "\n",
    "cleared_fees = list(filter(lambda fees: (fees[1]>=600000), zipped_total))\n",
    "\n",
    "print(cleared_fees)"
   ]
  },
  {
   "cell_type": "code",
   "execution_count": 7,
   "id": "e2ca5b81-4ae7-4a6c-8988-eeebc64cfd03",
   "metadata": {},
   "outputs": [
    {
     "name": "stdout",
     "output_type": "stream",
     "text": [
      "Payment Summary:\n",
      "Alex paid UGX 600,000 - Cleared\n",
      "Grace paid UGX 700,000 - Cleared\n",
      "Sarah paid UGX 900,000 - Cleared\n",
      "Brian paid UGX 500,000 - Pending\n"
     ]
    }
   ],
   "source": [
    "#4.5\n",
    "#defining (**kwargs) function\n",
    "def payment_summary(**kwargs):\n",
    "    print(\"Payment Summary:\")\n",
    "    for name, amount in kwargs.items():\n",
    "        status = \"Cleared\" if amount >= 600000 else \"Pending\"\n",
    "        print(name + \" paid UGX \" + format(amount, \",\") + \" - \" + status)\n",
    "\n",
    "\n",
    "payment_summary(Alex=600000, Grace=700000, Sarah=900000, Brian=500000)\n",
    "\n"
   ]
  },
  {
   "cell_type": "code",
   "execution_count": 32,
   "id": "dfdc9af5-e629-4cc6-b037-e7304d51e7b7",
   "metadata": {},
   "outputs": [
    {
     "name": "stdout",
     "output_type": "stream",
     "text": [
      "[1.2, 1.5, 0.9, 1.3]\n"
     ]
    }
   ],
   "source": [
    "#5.1\n",
    "districts = ['Bushenyi', 'Mityana', 'Kasese', 'Mbale'] \n",
    "yield_data = [1200, 1500, 900, 1300]\n",
    "\n",
    "yield_in_tons = [(lambda yd: yd/1000)(yd) for yd in yield_data]\n",
    "\n",
    "print(yield_in_tons)\n"
   ]
  },
  {
   "cell_type": "code",
   "execution_count": 33,
   "id": "ee917cc8-2c20-4043-86c7-1a547aee6e82",
   "metadata": {},
   "outputs": [
    {
     "name": "stdout",
     "output_type": "stream",
     "text": [
      "Bushenyi\n",
      "Mityana\n",
      "Mbale\n"
     ]
    }
   ],
   "source": [
    "#5.2\n",
    "districts = ['Bushenyi', 'Mityana', 'Kasese', 'Mbale'] \n",
    "yield_data = [1200, 1500, 900, 1300]\n",
    "\n",
    "yield_in_tons = [(lambda yd: yd/1000)(yd) for yd in yield_data]\n",
    "\n",
    "zipped_dis_yield = list(zip(districts, yield_in_tons))\n",
    "\n",
    "#defining generator that yields districts with yield > 1 ton\n",
    "def high_yd(zipped_dis_yield):\n",
    "    for district, y in zipped_dis_yield:\n",
    "        if  y > 1:\n",
    "            yield district\n",
    "\n",
    "for v in high_yd(zipped_dis_yield):\n",
    "    print(v)\n"
   ]
  },
  {
   "cell_type": "code",
   "execution_count": 34,
   "id": "226a694d-f7b1-428f-bac9-a86e2f2f4494",
   "metadata": {},
   "outputs": [
    {
     "name": "stdout",
     "output_type": "stream",
     "text": [
      "Average yield of all districts in tons:  1.225\n"
     ]
    }
   ],
   "source": [
    "#5.3\n",
    "districts = ['Bushenyi', 'Mityana', 'Kasese', 'Mbale'] \n",
    "yield_data = [1200, 1500, 900, 1300]\n",
    "\n",
    "yield_in_tons = [(lambda yd: yd/1000)(yd) for yd in yield_data]\n",
    "\n",
    "#defining generator that yields average yield in tons\n",
    "def average_yield(*yieldt):\n",
    "    total = 0\n",
    "    for y in yieldt:\n",
    "        total += y\n",
    "    return total/len(yieldt)\n",
    "\n",
    "print(\"Average yield of all districts in tons: \", average_yield(*yield_in_tons))\n"
   ]
  },
  {
   "cell_type": "code",
   "execution_count": 1,
   "id": "53f110c9-a1ea-45cc-9679-751ce602b670",
   "metadata": {},
   "outputs": [
    {
     "name": "stdout",
     "output_type": "stream",
     "text": [
      "Bushenyi : 2400.0 UGX\n",
      "Mityana : 3300.0 UGX\n",
      "Kasese : 1710.0 UGX\n",
      "Mbale : 3250.0 UGX\n"
     ]
    }
   ],
   "source": [
    "#5.4\n",
    "district_yields = {'Bushenyi': 1.2, 'Mityana': 1.5, 'Kasese': 0.9, 'Mbale': 1.3}\n",
    "\n",
    "#defining (**kwargs) function to compute revenues\n",
    "def compute_revenues(**income):\n",
    "    revenues = {}\n",
    "    for district, price in income.items():\n",
    "        tons = district_yields.get(district, 0)\n",
    "        revenues[district] = tons * price\n",
    "\n",
    "    return revenues\n",
    "\n",
    "revenues = compute_revenues(Bushenyi=2000, Mityana=2200, Kasese=1900, Mbale=2500)\n",
    "\n",
    "for district, revenue in revenues.items():\n",
    "    print(district, ':', revenue, 'UGX')"
   ]
  },
  {
   "cell_type": "code",
   "execution_count": 10,
   "id": "040968db-4de2-49ee-b760-4086e0f40fcc",
   "metadata": {},
   "outputs": [
    {
     "name": "stdout",
     "output_type": "stream",
     "text": [
      "Bushenyi produced 1.2 tons — Revenue: UGX 2,400\n",
      "Mityana produced 1.5 tons — Revenue: UGX 3,300\n",
      "Kasese produced 0.9 tons — Revenue: UGX 1,710\n",
      "Mbale produced 1.3 tons — Revenue: UGX 3,250\n"
     ]
    }
   ],
   "source": [
    "#5.5\n",
    "district_yields = {'Bushenyi': 1.2, 'Mityana': 1.5, 'Kasese': 0.9, 'Mbale': 1.3}\n",
    "\n",
    "def compute_revenues(**income):\n",
    "    revenues = {}\n",
    "    for district, price in income.items():\n",
    "        tons = district_yields.get(district, 0)\n",
    "        revenues[district] = tons * price\n",
    "\n",
    "    return revenues\n",
    "\n",
    "revenues = compute_revenues(Bushenyi=2000, Mityana=2200, Kasese=1900, Mbale=2500)\n",
    "\n",
    "for district, revenue in revenues.items():\n",
    "    tons = district_yields[district]\n",
    "    print(district + \" produced \" + str(tons) + \" tons — Revenue: UGX \" + format(int(revenue), \",\"))"
   ]
  },
  {
   "cell_type": "code",
   "execution_count": 11,
   "id": "132243ad-8f25-45ad-a4de-61ad39972de3",
   "metadata": {},
   "outputs": [
    {
     "name": "stdout",
     "output_type": "stream",
     "text": [
      "https://ucu.ac.ug → 200\n",
      "https://harba.ug → 200\n",
      "https://www.bou.or.ug → 200\n"
     ]
    }
   ],
   "source": [
    "#6.1\n",
    "import requests\n",
    "\n",
    "sites = ['https://ucu.ac.ug', 'https://harba.ug', 'https://www.bou.or.ug']\n",
    "\n",
    "def get_response_codes(*urls):\n",
    "    responses = {}\n",
    "    for url in urls:\n",
    "        try:\n",
    "            response = requests.get(url)\n",
    "            responses[url] = response.status_code\n",
    "        except requests.exceptions.RequestException as e:\n",
    "            responses[url] = \"Error: e\"\n",
    "    return responses\n",
    "\n",
    "\n",
    "codes = get_response_codes(*sites)\n",
    "\n",
    "for site, code in codes.items():\n",
    "    print(site, \"→\", code)\n"
   ]
  },
  {
   "cell_type": "code",
   "execution_count": 12,
   "id": "19a7a5a2-4949-454f-92f0-89e06efc617b",
   "metadata": {},
   "outputs": [
    {
     "name": "stdout",
     "output_type": "stream",
     "text": [
      "URLs with status code 200: https://ucu.ac.ug, https://harba.ug, https://www.bou.or.ug\n"
     ]
    }
   ],
   "source": [
    "#6.2\n",
    "import requests\n",
    "\n",
    "sites = ['https://ucu.ac.ug', 'https://harba.ug', 'https://www.bou.or.ug']\n",
    "\n",
    "#using get() function to return response codes\n",
    "def get_response_codes(*urls):\n",
    "    responses = {}\n",
    "    for url in urls:\n",
    "        try:\n",
    "            response = requests.get(url)\n",
    "            responses[url] = response.status_code\n",
    "        except requests.exceptions.RequestException as e:\n",
    "            responses[url] = \"Error: e\"\n",
    "    return responses\n",
    "\n",
    "\n",
    "codes = get_response_codes(*sites)\n",
    "\n",
    "valid_urls = [url for url, code in codes.items() if code == 200]\n",
    "\n",
    "print(\"URLs with status code 200:\", \", \".join(valid_urls))"
   ]
  },
  {
   "cell_type": "code",
   "execution_count": 13,
   "id": "68d6d7a0-0a91-4652-bb04-c7ad59941a1c",
   "metadata": {},
   "outputs": [
    {
     "name": "stdout",
     "output_type": "stream",
     "text": [
      "{'https://ucu.ac.ug': 200, 'https://harba.ug': 200, 'https://www.bou.or.ug': 200}\n"
     ]
    }
   ],
   "source": [
    "#6.3\n",
    "\n",
    "import requests\n",
    "\n",
    "sites = ['https://ucu.ac.ug', 'https://harba.ug', 'https://www.bou.or.ug']\n",
    "\n",
    "#trying to run a code that might fail\n",
    "def get_response_codes(*urls):\n",
    "    responses = {}\n",
    "    for url in urls:\n",
    "        try:\n",
    "            response = requests.get(url)\n",
    "            responses[url] = response.status_code\n",
    "        except requests.exceptions.RequestException as e:\n",
    "            responses[url] = \"Error: e\"\n",
    "    return responses\n",
    "\n",
    "\n",
    "codes = get_response_codes(*sites)\n",
    "\n",
    "successful_sites = {url: code for url, code in codes.items() if code == 200}\n",
    "\n",
    "print(successful_sites)"
   ]
  },
  {
   "cell_type": "code",
   "execution_count": 14,
   "id": "bafcbf66-8754-4f45-8353-55b0edcd11f4",
   "metadata": {},
   "outputs": [
    {
     "name": "stdout",
     "output_type": "stream",
     "text": [
      "Active Site: https://ucu.ac.ug\n",
      "Active Site: https://harba.ug\n",
      "Active Site: https://www.bou.or.ug\n"
     ]
    }
   ],
   "source": [
    "#6.4\n",
    "import requests\n",
    "\n",
    "sites = ['https://ucu.ac.ug', 'https://harba.ug', 'https://www.bou.or.ug']\n",
    "\n",
    "def get_response_codes(*urls):\n",
    "    responses = {}\n",
    "    for url in urls:\n",
    "        try:\n",
    "            response = requests.get(url)\n",
    "            responses[url] = response.status_code\n",
    "        except requests.exceptions.RequestException as e:\n",
    "            responses[url] = \"Error: e\"\n",
    "    return responses\n",
    "\n",
    "\n",
    "codes = get_response_codes(*sites)\n",
    "\n",
    "active_sites = ('Active Site: ' + url for url, code in codes.items() if code == 200)\n",
    "\n",
    "#using generator function that yields active site\n",
    "for site in active_sites:\n",
    "    print(site)"
   ]
  },
  {
   "cell_type": "code",
   "execution_count": null,
   "id": "17e0e79f-197b-4926-8b7d-59144be232f3",
   "metadata": {},
   "outputs": [],
   "source": []
  }
 ],
 "metadata": {
  "kernelspec": {
   "display_name": "Python [conda env:base] *",
   "language": "python",
   "name": "conda-base-py"
  },
  "language_info": {
   "codemirror_mode": {
    "name": "ipython",
    "version": 3
   },
   "file_extension": ".py",
   "mimetype": "text/x-python",
   "name": "python",
   "nbconvert_exporter": "python",
   "pygments_lexer": "ipython3",
   "version": "3.13.5"
  }
 },
 "nbformat": 4,
 "nbformat_minor": 5
}
